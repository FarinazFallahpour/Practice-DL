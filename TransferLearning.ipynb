{
  "nbformat": 4,
  "nbformat_minor": 0,
  "metadata": {
    "accelerator": "GPU",
    "colab": {
      "name": "Copy of Assignment2.ipynb",
      "provenance": [],
      "collapsed_sections": []
    },
    "kernelspec": {
      "display_name": "Python 3",
      "name": "python3"
    }
  },
  "cells": [
    {
      "cell_type": "markdown",
      "metadata": {
        "id": "k1h-V_eYgwh_"
      },
      "source": [
        "##**Transfer Learning VS Training from Scratch**\n",
        "\n",
        "\n"
      ]
    },
    {
      "cell_type": "markdown",
      "metadata": {
        "id": "VWcNxfzJhQu7"
      },
      "source": [
        "## Load Library and Preprocessing step\n",
        "I am using CIFAR-10 Dataset"
      ]
    },
    {
      "cell_type": "code",
      "metadata": {
        "id": "Zy5GKYsmyZGC"
      },
      "source": [
        "#Load libraries\n",
        "import numpy as np\n",
        "import tensorflow as tf\n",
        "import matplotlib.pyplot as plt\n",
        "from tensorflow.keras import datasets, models, layers\n",
        "from tensorflow.keras.models import Sequential\n",
        "from tensorflow.keras.applications import ResNet50\n",
        "from tensorflow.keras.layers import Flatten, BatchNormalization, Dense, Dropout,Conv2D\n",
        "from tensorflow.image import resize\n",
        "from tensorflow.keras.optimizers import Adam\n",
        "from tensorflow.keras.callbacks import EarlyStopping, ModelCheckpoint\n",
        "from keras.preprocessing import image"
      ],
      "execution_count": null,
      "outputs": []
    },
    {
      "cell_type": "code",
      "metadata": {
        "id": "FJbdRnzfgj1j",
        "colab": {
          "base_uri": "https://localhost:8080/"
        },
        "outputId": "a35e794a-afbb-4938-d2f3-02ac03f99542"
      },
      "source": [
        "#Load and preprocess\n",
        "(x_train, y_train), (x_test, y_test)=datasets.cifar10.load_data()\n",
        "#x_train, x_test = x_train /255.0, x_test /255.0\n",
        "x_train =tf.keras.applications.resnet50.preprocess_input(x_train)\n",
        "x_test = tf.keras.applications.resnet50.preprocess_input(x_test)\n",
        "y_train= tf.keras.utils.to_categorical(y_train,10)\n",
        "y_test= tf.keras.utils.to_categorical(y_test,10)"
      ],
      "execution_count": null,
      "outputs": [
        {
          "output_type": "stream",
          "text": [
            "Downloading data from https://www.cs.toronto.edu/~kriz/cifar-10-python.tar.gz\n",
            "170500096/170498071 [==============================] - 3s 0us/step\n"
          ],
          "name": "stdout"
        }
      ]
    },
    {
      "cell_type": "code",
      "metadata": {
        "id": "P0_4doKUVTon"
      },
      "source": [
        "# Parameters\n",
        "sample_number = x_train.shape[0]\n",
        "img_w =x_train.shape[1]\n",
        "img_h = x_train.shape[2]\n",
        "img_channel = x_train.shape[3]\n",
        "resnet_input_dim = (224,224)"
      ],
      "execution_count": null,
      "outputs": []
    },
    {
      "cell_type": "markdown",
      "metadata": {
        "id": "6zgYbcklhr0T"
      },
      "source": [
        "## Pretrained model (ResNet50)\n",
        "Setup ResNet50 and freez 143 first layer(All layers except last block)"
      ]
    },
    {
      "cell_type": "code",
      "metadata": {
        "id": "CItsdU11guJ2"
      },
      "source": [
        "# Create pretrained model  - include_top = False >> No Fully connected layer\n",
        "pretrained_model = ResNet50(include_top=False,\n",
        "                            weights='imagenet')\n",
        "freeze_number = 143\n",
        "for layer in pretrained_model.layers[:freeze_number]:\n",
        "  layer.trainable = False"
      ],
      "execution_count": null,
      "outputs": []
    },
    {
      "cell_type": "markdown",
      "metadata": {
        "id": "CfsUIDutilMT"
      },
      "source": [
        "##Create customized model(ResNet50(Base) + Customized layers (Head))"
      ]
    },
    {
      "cell_type": "code",
      "metadata": {
        "id": "EVB7quT4ilxw"
      },
      "source": [
        "customized_model = Sequential()\n",
        "customized_model.add(tf.keras.layers.Lambda(lambda image:resize(image, resnet_input_dim)))\n",
        "customized_model.add(pretrained_model)\n",
        "customized_model.add(Conv2D(128, (3,3), strides=(1, 1),activation='relu'))\n",
        "customized_model.add(Flatten())\n",
        "customized_model.add(BatchNormalization())\n",
        "customized_model.add(Dense(256, activation='relu'))\n",
        "customized_model.add(Dropout(0.5))\n",
        "customized_model.add(BatchNormalization())\n",
        "customized_model.add(Dense(128, activation='relu'))\n",
        "customized_model.add(Dropout(0.5))\n",
        "customized_model.add(BatchNormalization())\n",
        "customized_model.add(Dense(64, activation='relu'))\n",
        "customized_model.add(Dropout(0.5))\n",
        "customized_model.add(BatchNormalization())\n",
        "customized_model.add(Dense(10, activation='softmax'))\n"
      ],
      "execution_count": null,
      "outputs": []
    },
    {
      "cell_type": "markdown",
      "metadata": {
        "id": "53Z7eVjRi6QP"
      },
      "source": [
        "##Compileing and Fitting Step"
      ]
    },
    {
      "cell_type": "code",
      "metadata": {
        "id": "5HLwxicBi-cg",
        "colab": {
          "base_uri": "https://localhost:8080/"
        },
        "outputId": "ac6e8e83-4851-416c-cde2-7b949f308bb6"
      },
      "source": [
        "customized_model.compile(loss='categorical_crossentropy',\n",
        "                  optimizer= 'adam',\n",
        "                  metrics=['accuracy'])\n",
        "customized_callbacks = [EarlyStopping(monitor='accuracy',patience=3,mode='max', verbose=1),\n",
        "                        ModelCheckpoint('/data/',monitor='val_accuracy', save_best_only=True, mode='max',verbose=0)]\n",
        "history = customized_model.fit(x_train,\n",
        "                               y_train,\n",
        "                               batch_size=32,\n",
        "                               epochs=5,\n",
        "                               verbose=1,\n",
        "                               validation_data=(x_test, y_test),\n",
        "                               callbacks=[customized_callbacks])\n"
      ],
      "execution_count": null,
      "outputs": [
        {
          "output_type": "stream",
          "text": [
            "Epoch 1/5\n",
            "1563/1563 [==============================] - 252s 159ms/step - loss: 0.5124 - accuracy: 0.8622 - val_loss: 0.2557 - val_accuracy: 0.9191\n",
            "INFO:tensorflow:Assets written to: /data/assets\n",
            "Epoch 2/5\n",
            "1563/1563 [==============================] - 248s 158ms/step - loss: 0.3564 - accuracy: 0.9034 - val_loss: 0.2369 - val_accuracy: 0.9258\n",
            "INFO:tensorflow:Assets written to: /data/assets\n",
            "Epoch 3/5\n",
            "1563/1563 [==============================] - 245s 157ms/step - loss: 0.2597 - accuracy: 0.9325 - val_loss: 0.2645 - val_accuracy: 0.9198\n",
            "Epoch 4/5\n",
            "1563/1563 [==============================] - 247s 158ms/step - loss: 0.2066 - accuracy: 0.9472 - val_loss: 0.2418 - val_accuracy: 0.9265\n",
            "INFO:tensorflow:Assets written to: /data/assets\n",
            "Epoch 5/5\n",
            "1563/1563 [==============================] - 245s 157ms/step - loss: 0.1673 - accuracy: 0.9558 - val_loss: 0.2426 - val_accuracy: 0.9356\n",
            "INFO:tensorflow:Assets written to: /data/assets\n"
          ],
          "name": "stdout"
        }
      ]
    },
    {
      "cell_type": "markdown",
      "metadata": {
        "id": "X2zsiQTUjBVb"
      },
      "source": [
        "##Plotting Accuracy and Calculating Average of 3 runs"
      ]
    },
    {
      "cell_type": "code",
      "metadata": {
        "colab": {
          "base_uri": "https://localhost:8080/"
        },
        "id": "LLytBpk5PUZd",
        "outputId": "2b609471-4db8-4128-a8f4-55d5412950d4"
      },
      "source": [
        "customized_model.save('customized.model')"
      ],
      "execution_count": null,
      "outputs": [
        {
          "output_type": "stream",
          "text": [
            "INFO:tensorflow:Assets written to: customized.model/assets\n"
          ],
          "name": "stdout"
        }
      ]
    },
    {
      "cell_type": "code",
      "metadata": {
        "colab": {
          "base_uri": "https://localhost:8080/",
          "height": 317
        },
        "id": "na_lhquyo_6n",
        "outputId": "5ca56203-7000-46fe-f8f5-b422ac172d6c"
      },
      "source": [
        "plt.plot(history.history['accuracy'], label='Trainging Accuracy')\n",
        "plt.plot(history.history['val_accuracy'], label = 'Testing Accuracy')\n",
        "plt.xlabel('Epoch')\n",
        "plt.ylabel('Accuracy')\n",
        "plt.ylim([0.5, 1])\n",
        "plt.legend(loc='lower right')\n",
        "#test_loss, test_acc = customized_model.evaluate(x_test,  y_test, verbose=2)\n",
        "\n",
        "sum_train_acc = 0\n",
        "sum_test_acc = 0\n",
        "epoch_num = 3\n",
        "for epoch in range(epoch_num):\n",
        "  sum_train_acc += history.history['accuracy'][epoch]\n",
        "  sum_test_acc += history.history['val_accuracy'][epoch]\n",
        "\n",
        "avg_train_acc = (sum_train_acc / epoch_num)\n",
        "avg_test_acc = (sum_train_acc / epoch_num)\n",
        "\n",
        "print('Training Accuracy Average for Pretrained DCNN',avg_train_acc)\n",
        "print('Testing Accuracy Average for Pretrained DCNN',avg_test_acc)\n"
      ],
      "execution_count": null,
      "outputs": [
        {
          "output_type": "stream",
          "text": [
            "Training Accuracy Average for Pretrained DCNN 0.9008200168609619\n",
            "Testing Accuracy Average for Pretrained DCNN 0.9008200168609619\n"
          ],
          "name": "stdout"
        },
        {
          "output_type": "display_data",
          "data": {
            "image/png": "[encoded data removed]",
            "text/plain": [
              "<Figure size 432x288 with 1 Axes>"
            ]
          },
          "metadata": {
            "tags": [],
            "needs_background": "light"
          }
        }
      ]
    },
    {
      "cell_type": "markdown",
      "metadata": {
        "id": "6EFP7uWIqMsN"
      },
      "source": [
        "##Train DCNN From Scratch\n",
        "\n",
        "\n"
      ]
    },
    {
      "cell_type": "code",
      "metadata": {
        "id": "k9eQnZ7DB3xU"
      },
      "source": [
        "res_model = ResNet50(include_top=False,\n",
        "                     weights=None,\n",
        "                     pooling='avg',\n",
        "                     input_shape =(img_w,img_h,img_channel))\n",
        "random_w_model = Sequential()\n",
        "random_w_model.add(res_model)\n",
        "random_w_model.add(Dense(10, activation='softmax'))"
      ],
      "execution_count": null,
      "outputs": []
    },
    {
      "cell_type": "code",
      "metadata": {
        "colab": {
          "base_uri": "https://localhost:8080/"
        },
        "id": "S51OPpjiqqZ-",
        "outputId": "45876cde-0376-4078-d0c3-4d025b5f9c5a"
      },
      "source": [
        "random_w_model.compile(loss='categorical_crossentropy',\n",
        "                  optimizer= 'adam',\n",
        "                  metrics=['accuracy'])\n",
        "customized_callbacks_scratch = [EarlyStopping(monitor='accuracy',patience=3,mode='max', verbose=1),\n",
        "                        ModelCheckpoint('/data/',monitor='val_accuracy', save_best_only=True, mode='max',verbose=0)]\n",
        "history_r = random_w_model.fit(x_train,\n",
        "                               y_train,\n",
        "                               batch_size=32,\n",
        "                               epochs=100,\n",
        "                               verbose=1,\n",
        "                               validation_data=(x_test, y_test),\n",
        "                               callbacks=[customized_callbacks_scratch])\n",
        "random_w_model.save('random_w_model.model')"
      ],
      "execution_count": null,
      "outputs": [
        {
          "output_type": "stream",
          "text": [
            "Epoch 1/100\n",
            "1563/1563 [==============================] - 72s 43ms/step - loss: 2.3606 - accuracy: 0.2529 - val_loss: 2.1822 - val_accuracy: 0.2400\n",
            "INFO:tensorflow:Assets written to: /data/assets\n",
            "Epoch 2/100\n",
            "1563/1563 [==============================] - 66s 42ms/step - loss: 2.2930 - accuracy: 0.2483 - val_loss: 1.9881 - val_accuracy: 0.2870\n",
            "INFO:tensorflow:Assets written to: /data/assets\n",
            "Epoch 3/100\n",
            "1563/1563 [==============================] - 66s 42ms/step - loss: 2.1003 - accuracy: 0.3228 - val_loss: 4.5527 - val_accuracy: 0.2351\n",
            "Epoch 4/100\n",
            "1563/1563 [==============================] - 65s 42ms/step - loss: 2.1364 - accuracy: 0.2846 - val_loss: 2.7746 - val_accuracy: 0.2978\n",
            "INFO:tensorflow:Assets written to: /data/assets\n",
            "Epoch 5/100\n",
            "1563/1563 [==============================] - 66s 42ms/step - loss: 1.9463 - accuracy: 0.3477 - val_loss: 2.9440 - val_accuracy: 0.3031\n",
            "INFO:tensorflow:Assets written to: /data/assets\n",
            "Epoch 6/100\n",
            "1563/1563 [==============================] - 65s 42ms/step - loss: 1.9580 - accuracy: 0.3433 - val_loss: 2.2559 - val_accuracy: 0.4235\n",
            "INFO:tensorflow:Assets written to: /data/assets\n",
            "Epoch 7/100\n",
            "1563/1563 [==============================] - 66s 42ms/step - loss: 1.7036 - accuracy: 0.4151 - val_loss: 1.6984 - val_accuracy: 0.4582\n",
            "INFO:tensorflow:Assets written to: /data/assets\n",
            "Epoch 8/100\n",
            "1563/1563 [==============================] - 66s 42ms/step - loss: 1.6162 - accuracy: 0.4422 - val_loss: 1.5083 - val_accuracy: 0.4547\n",
            "Epoch 9/100\n",
            "1563/1563 [==============================] - 65s 42ms/step - loss: 1.5584 - accuracy: 0.4559 - val_loss: 1.5069 - val_accuracy: 0.4767\n",
            "INFO:tensorflow:Assets written to: /data/assets\n",
            "Epoch 10/100\n",
            "1563/1563 [==============================] - 66s 42ms/step - loss: 1.4378 - accuracy: 0.4883 - val_loss: 1.7391 - val_accuracy: 0.4499\n",
            "Epoch 11/100\n",
            "1563/1563 [==============================] - 66s 42ms/step - loss: 1.4527 - accuracy: 0.4831 - val_loss: 1.4112 - val_accuracy: 0.5041\n",
            "INFO:tensorflow:Assets written to: /data/assets\n",
            "Epoch 12/100\n",
            "1563/1563 [==============================] - 65s 42ms/step - loss: 1.2497 - accuracy: 0.5588 - val_loss: 1.1363 - val_accuracy: 0.5950\n",
            "INFO:tensorflow:Assets written to: /data/assets\n",
            "Epoch 13/100\n",
            "1563/1563 [==============================] - 66s 42ms/step - loss: 1.1164 - accuracy: 0.6094 - val_loss: 1.0902 - val_accuracy: 0.6149\n",
            "INFO:tensorflow:Assets written to: /data/assets\n",
            "Epoch 14/100\n",
            "1563/1563 [==============================] - 66s 42ms/step - loss: 0.9959 - accuracy: 0.6517 - val_loss: 1.0079 - val_accuracy: 0.6434\n",
            "INFO:tensorflow:Assets written to: /data/assets\n",
            "Epoch 15/100\n",
            "1563/1563 [==============================] - 66s 42ms/step - loss: 0.8902 - accuracy: 0.6856 - val_loss: 0.9773 - val_accuracy: 0.6580\n",
            "INFO:tensorflow:Assets written to: /data/assets\n",
            "Epoch 16/100\n",
            "1563/1563 [==============================] - 66s 42ms/step - loss: 0.7960 - accuracy: 0.7202 - val_loss: 0.8486 - val_accuracy: 0.7033\n",
            "INFO:tensorflow:Assets written to: /data/assets\n",
            "Epoch 17/100\n",
            "1563/1563 [==============================] - 67s 43ms/step - loss: 0.7140 - accuracy: 0.7491 - val_loss: 0.8146 - val_accuracy: 0.7143\n",
            "INFO:tensorflow:Assets written to: /data/assets\n",
            "Epoch 18/100\n",
            "1563/1563 [==============================] - 67s 43ms/step - loss: 0.6289 - accuracy: 0.7813 - val_loss: 0.8336 - val_accuracy: 0.7189\n",
            "INFO:tensorflow:Assets written to: /data/assets\n",
            "Epoch 19/100\n",
            "1563/1563 [==============================] - 67s 43ms/step - loss: 0.5624 - accuracy: 0.8053 - val_loss: 1.3441 - val_accuracy: 0.6140\n",
            "Epoch 20/100\n",
            "1563/1563 [==============================] - 66s 43ms/step - loss: 0.5118 - accuracy: 0.8231 - val_loss: 0.8071 - val_accuracy: 0.7353\n",
            "INFO:tensorflow:Assets written to: /data/assets\n",
            "Epoch 21/100\n",
            "1563/1563 [==============================] - 68s 44ms/step - loss: 0.4514 - accuracy: 0.8425 - val_loss: 0.8339 - val_accuracy: 0.7312\n",
            "Epoch 22/100\n",
            "1563/1563 [==============================] - 67s 43ms/step - loss: 0.3722 - accuracy: 0.8706 - val_loss: 0.9127 - val_accuracy: 0.7162\n",
            "Epoch 23/100\n",
            "1563/1563 [==============================] - 67s 43ms/step - loss: 0.3358 - accuracy: 0.8835 - val_loss: 0.8251 - val_accuracy: 0.7435\n",
            "INFO:tensorflow:Assets written to: /data/assets\n",
            "Epoch 24/100\n",
            "1563/1563 [==============================] - 68s 43ms/step - loss: 0.3238 - accuracy: 0.8894 - val_loss: 1.2032 - val_accuracy: 0.6869\n",
            "Epoch 25/100\n",
            "1563/1563 [==============================] - 66s 42ms/step - loss: 0.2684 - accuracy: 0.9066 - val_loss: 1.0002 - val_accuracy: 0.7281\n",
            "Epoch 26/100\n",
            "1563/1563 [==============================] - 67s 43ms/step - loss: 0.2306 - accuracy: 0.9196 - val_loss: 0.9285 - val_accuracy: 0.7357\n",
            "Epoch 27/100\n",
            "1563/1563 [==============================] - 67s 43ms/step - loss: 0.2068 - accuracy: 0.9304 - val_loss: 0.9793 - val_accuracy: 0.7353\n",
            "Epoch 28/100\n",
            "1563/1563 [==============================] - 67s 43ms/step - loss: 0.1704 - accuracy: 0.9424 - val_loss: 1.0213 - val_accuracy: 0.7301\n",
            "Epoch 29/100\n",
            "1563/1563 [==============================] - 67s 43ms/step - loss: 0.2356 - accuracy: 0.9200 - val_loss: 1.0971 - val_accuracy: 0.7252\n",
            "Epoch 30/100\n",
            "1563/1563 [==============================] - 67s 43ms/step - loss: 0.1478 - accuracy: 0.9507 - val_loss: 1.1283 - val_accuracy: 0.7351\n",
            "Epoch 31/100\n",
            "1563/1563 [==============================] - 66s 42ms/step - loss: 0.1196 - accuracy: 0.9567 - val_loss: 1.1152 - val_accuracy: 0.7418\n",
            "Epoch 32/100\n",
            "1563/1563 [==============================] - 66s 42ms/step - loss: 0.1517 - accuracy: 0.9482 - val_loss: 1.1026 - val_accuracy: 0.7435\n",
            "Epoch 33/100\n",
            "1563/1563 [==============================] - 67s 43ms/step - loss: 0.1079 - accuracy: 0.9627 - val_loss: 1.6958 - val_accuracy: 0.6435\n",
            "Epoch 34/100\n",
            "1563/1563 [==============================] - 66s 43ms/step - loss: 0.2173 - accuracy: 0.9276 - val_loss: 1.3225 - val_accuracy: 0.7295\n",
            "Epoch 00034: early stopping\n",
            "INFO:tensorflow:Assets written to: random_w_model.model/assets\n"
          ],
          "name": "stdout"
        }
      ]
    },
    {
      "cell_type": "code",
      "metadata": {
        "colab": {
          "base_uri": "https://localhost:8080/"
        },
        "id": "bkQKS1jS6U0a",
        "outputId": "ba5c32f4-32c7-42e9-e9be-3d1c03bf3243"
      },
      "source": [
        "\n",
        "sum_train_acc_rw = 0\n",
        "sum_test_acc_rw = 0\n",
        "\n",
        "epoch_num = 34\n",
        "for epoch in range(epoch_num):\n",
        "  sum_train_acc_rw += history_r.history['accuracy'][epoch]\n",
        "  sum_test_acc_rw += history_r.history['val_accuracy'][epoch]\n",
        "\n",
        "avg_train_acc = (sum_train_acc_rw / epoch_num)\n",
        "avg_test_acc = (sum_train_acc_rw / epoch_num)\n",
        "print('Training Accuracy Average for Pretrained DCNN',avg_train_acc)\n",
        "print('Testing Accuracy Average for Pretrained DCNN',avg_test_acc)\n"
      ],
      "execution_count": null,
      "outputs": [
        {
          "output_type": "stream",
          "text": [
            "Training Accuracy Average for Pretrained DCNN 0.6866182347430902\n",
            "Testing Accuracy Average for Pretrained DCNN 0.6866182347430902\n"
          ],
          "name": "stdout"
        }
      ]
    },
    {
      "cell_type": "markdown",
      "metadata": {
        "id": "w5Oz0kwhleJa"
      },
      "source": [
        "##Train DCNN From Scratch - CUSTOMIZED\n"
      ]
    },
    {
      "cell_type": "code",
      "metadata": {
        "id": "3xMEseDSlX8d"
      },
      "source": [
        "r_model = ResNet50(include_top=False,\n",
        "                     weights=None,\n",
        "                     pooling='avg',\n",
        "                     )\n",
        "my_model = Sequential()\n",
        "\n",
        "my_model.add(tf.keras.layers.Lambda(lambda image:resize(image, resnet_input_dim)))\n",
        "my_model.add(r_model)\n",
        "\n",
        "my_model.add(Flatten())\n",
        "my_model.add(BatchNormalization())\n",
        "my_model.add(Dense(256, activation='relu'))\n",
        "my_model.add(Dropout(0.5))\n",
        "my_model.add(BatchNormalization())\n",
        "my_model.add(Dense(128, activation='relu'))\n",
        "my_model.add(Dropout(0.5))\n",
        "my_model.add(BatchNormalization())\n",
        "my_model.add(Dense(64, activation='relu'))\n",
        "my_model.add(Dropout(0.5))\n",
        "my_model.add(BatchNormalization())\n",
        "my_model.add(Dense(10, activation='softmax'))\n"
      ],
      "execution_count": null,
      "outputs": []
    },
    {
      "cell_type": "code",
      "metadata": {
        "colab": {
          "base_uri": "https://localhost:8080/"
        },
        "id": "TxYPa01pm-WV",
        "outputId": "205718d9-3572-4e1e-ab15-d2e762d7277e"
      },
      "source": [
        "my_model.compile(loss='categorical_crossentropy',\n",
        "                  optimizer= 'adam',\n",
        "                  metrics=['accuracy'])\n",
        "my_callbacks = [EarlyStopping(monitor='accuracy',patience=3,mode='max', verbose=1),\n",
        "                        ModelCheckpoint('/data/',monitor='val_accuracy', save_best_only=True, mode='max',verbose=0)]\n",
        "my_history = my_model.fit(x_train,\n",
        "                               y_train,\n",
        "                               batch_size=32,\n",
        "                               epochs=30,\n",
        "                               verbose=1,\n",
        "                               validation_data=(x_test, y_test),\n",
        "                               callbacks=[my_callbacks])"
      ],
      "execution_count": null,
      "outputs": [
        {
          "output_type": "stream",
          "text": [
            "Epoch 1/30\n",
            "1563/1563 [==============================] - 520s 329ms/step - loss: 2.3454 - accuracy: 0.1634 - val_loss: 3.2141 - val_accuracy: 0.1618\n",
            "INFO:tensorflow:Assets written to: /data/assets\n",
            "Epoch 2/30\n",
            "1563/1563 [==============================] - 512s 328ms/step - loss: 1.8696 - accuracy: 0.2796 - val_loss: 1.6478 - val_accuracy: 0.3601\n",
            "INFO:tensorflow:Assets written to: /data/assets\n",
            "Epoch 3/30\n",
            "1563/1563 [==============================] - 513s 328ms/step - loss: 1.6697 - accuracy: 0.3620 - val_loss: 1.4600 - val_accuracy: 0.4414\n",
            "INFO:tensorflow:Assets written to: /data/assets\n",
            "Epoch 4/30\n",
            "1563/1563 [==============================] - 514s 329ms/step - loss: 1.4681 - accuracy: 0.4596 - val_loss: 1.3259 - val_accuracy: 0.5053\n",
            "INFO:tensorflow:Assets written to: /data/assets\n",
            "Epoch 5/30\n",
            "1563/1563 [==============================] - 513s 328ms/step - loss: 1.2982 - accuracy: 0.5380 - val_loss: 1.1595 - val_accuracy: 0.5680\n",
            "INFO:tensorflow:Assets written to: /data/assets\n",
            "Epoch 6/30\n",
            "1563/1563 [==============================] - 513s 328ms/step - loss: 1.1475 - accuracy: 0.6056 - val_loss: 1.0345 - val_accuracy: 0.6271\n",
            "INFO:tensorflow:Assets written to: /data/assets\n",
            "Epoch 7/30\n",
            "1563/1563 [==============================] - 515s 329ms/step - loss: 1.0416 - accuracy: 0.6458 - val_loss: 0.8294 - val_accuracy: 0.7081\n",
            "INFO:tensorflow:Assets written to: /data/assets\n",
            "Epoch 8/30\n",
            "1563/1563 [==============================] - 514s 329ms/step - loss: 0.9611 - accuracy: 0.6777 - val_loss: 0.8551 - val_accuracy: 0.7008\n",
            "Epoch 9/30\n",
            "1563/1563 [==============================] - 514s 329ms/step - loss: 0.8928 - accuracy: 0.7063 - val_loss: 0.8208 - val_accuracy: 0.7118\n",
            "INFO:tensorflow:Assets written to: /data/assets\n",
            "Epoch 10/30\n",
            "1563/1563 [==============================] - 514s 329ms/step - loss: 0.8915 - accuracy: 0.7129 - val_loss: 0.7143 - val_accuracy: 0.7547\n",
            "INFO:tensorflow:Assets written to: /data/assets\n",
            "Epoch 11/30\n",
            "1563/1563 [==============================] - 514s 329ms/step - loss: 0.7864 - accuracy: 0.7469 - val_loss: 0.8319 - val_accuracy: 0.7103\n",
            "Epoch 12/30\n",
            "1563/1563 [==============================] - 513s 329ms/step - loss: 0.7481 - accuracy: 0.7584 - val_loss: 0.6721 - val_accuracy: 0.7728\n",
            "INFO:tensorflow:Assets written to: /data/assets\n",
            "Epoch 13/30\n",
            "1563/1563 [==============================] - 515s 329ms/step - loss: 0.7046 - accuracy: 0.7805 - val_loss: 0.6432 - val_accuracy: 0.7832\n",
            "INFO:tensorflow:Assets written to: /data/assets\n",
            "Epoch 14/30\n",
            "1563/1563 [==============================] - 514s 329ms/step - loss: 0.6840 - accuracy: 0.7832 - val_loss: 0.5926 - val_accuracy: 0.7972\n",
            "INFO:tensorflow:Assets written to: /data/assets\n",
            "Epoch 15/30\n",
            "1563/1563 [==============================] - 513s 328ms/step - loss: 0.6581 - accuracy: 0.7944 - val_loss: 0.6055 - val_accuracy: 0.7992\n",
            "INFO:tensorflow:Assets written to: /data/assets\n",
            "Epoch 16/30\n",
            "1563/1563 [==============================] - 514s 329ms/step - loss: 0.5926 - accuracy: 0.8149 - val_loss: 0.5912 - val_accuracy: 0.7996\n",
            "INFO:tensorflow:Assets written to: /data/assets\n",
            "Epoch 17/30\n",
            "1563/1563 [==============================] - 514s 329ms/step - loss: 0.5548 - accuracy: 0.8283 - val_loss: 0.7118 - val_accuracy: 0.7673\n",
            "Epoch 18/30\n",
            "1563/1563 [==============================] - 513s 328ms/step - loss: 0.5200 - accuracy: 0.8387 - val_loss: 0.6015 - val_accuracy: 0.8024\n",
            "INFO:tensorflow:Assets written to: /data/assets\n",
            "Epoch 19/30\n",
            "1563/1563 [==============================] - 514s 329ms/step - loss: 0.4741 - accuracy: 0.8521 - val_loss: 0.5505 - val_accuracy: 0.8219\n",
            "INFO:tensorflow:Assets written to: /data/assets\n",
            "Epoch 20/30\n",
            " 550/1563 [=========>....................] - ETA: 5:15 - loss: 0.4629 - accuracy: 0.8586"
          ],
          "name": "stdout"
        }
      ]
    },
    {
      "cell_type": "markdown",
      "metadata": {
        "id": "lEcW4lgR8zN-"
      },
      "source": [
        "**Question** Compare the performance gab and training time between the above two conditions. Please explain why you obtained such results, and give a brief discussion about it. Based on the paper (Rethinking ImageNet Pre-training, ICCV,2019), the ImageNet pretrained model does not improve accuracy unless the target dataset is too small. Did your experimental result support the conclusion?"
      ]
    },
    {
      "cell_type": "markdown",
      "metadata": {
        "id": "MEzJbj9w-uZp"
      },
      "source": [
        ""
      ]
    },
    {
      "cell_type": "markdown",
      "metadata": {
        "id": "lIjyB5fV-Mk_"
      },
      "source": [
        "**Question**\n",
        "compare the performance gab and training time between your results (training from scratch) and your results in the Home Assignment 2 Part I. Explain why you obtained such results, and give a brief discussion of why the results are different. (hint: Equation (21) in the slides in Week3)."
      ]
    },
    {
      "cell_type": "markdown",
      "metadata": {
        "id": "53tOJNG2-UY9"
      },
      "source": [
        ""
      ]
    }
  ]
}