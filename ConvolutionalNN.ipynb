{
  "nbformat": 4,
  "nbformat_minor": 0,
  "metadata": {
    "colab": {
      "name": "Copy of MyCnn.ipynb",
      "provenance": [],
      "collapsed_sections": []
    },
    "kernelspec": {
      "name": "python3",
      "display_name": "Python 3"
    },
    "accelerator": "GPU"
  },
  "cells": [
    {
      "cell_type": "markdown",
      "metadata": {
        "id": "2wLaKEvebUAN"
      },
      "source": [
        "\n",
        "# **Five-layer Convlutional NN**"
      ]
    },
    {
      "cell_type": "markdown",
      "metadata": {
        "id": "AZresrdacajP"
      },
      "source": [
        "### Add Tensorflow"
      ]
    },
    {
      "cell_type": "code",
      "metadata": {
        "id": "EAGNUP14bgC3"
      },
      "source": [
        "#load libraries\n",
        "import tensorflow as tf\n",
        "import matplotlib.pyplot as plt\n",
        "import numpy as np\n",
        "from tensorflow.keras import datasets\n",
        "from tensorflow.keras import models\n",
        "from tensorflow.keras import layers"
      ],
      "execution_count": null,
      "outputs": []
    },
    {
      "cell_type": "markdown",
      "metadata": {
        "id": "yWmUQh_4cKO9"
      },
      "source": [
        "###Preprocessing (Download and Normalization)"
      ]
    },
    {
      "cell_type": "code",
      "metadata": {
        "id": "r_VGc_WKb_Vo",
        "colab": {
          "base_uri": "https://localhost:8080/"
        },
        "outputId": "fd45c806-c92d-4060-ccf4-a1de3cdbaed9"
      },
      "source": [
        "(x_train, y_train), (x_test, y_test)=datasets.cifar10.load_data()\n",
        "\n",
        "print(type(x_train))\n",
        "print(x_train.shape)\n",
        "print(y_train.shape)\n",
        "print(y_train[0:10])\n",
        "\n",
        "print(x_train[0].shape)"
      ],
      "execution_count": null,
      "outputs": [
        {
          "output_type": "stream",
          "text": [
            "<class 'numpy.ndarray'>\n",
            "(50000, 32, 32, 3)\n",
            "(50000, 1)\n",
            "[[6]\n",
            " [9]\n",
            " [9]\n",
            " [4]\n",
            " [1]\n",
            " [1]\n",
            " [2]\n",
            " [7]\n",
            " [8]\n",
            " [3]]\n",
            "(32, 32, 3)\n"
          ],
          "name": "stdout"
        }
      ]
    },
    {
      "cell_type": "code",
      "metadata": {
        "id": "BC04DPmtcloD",
        "colab": {
          "base_uri": "https://localhost:8080/",
          "height": 543
        },
        "outputId": "1d82d1d4-f50c-4b8c-af46-169b91b79cf3"
      },
      "source": [
        "categories = ['airplane', 'automobile', 'bird', 'cat', 'deer','dog', 'frog', 'horse', 'ship', 'truck']\n",
        "plt.imshow(x_train[0], cmap=plt.cm.binary)\n",
        "plt.xlabel(categories[y_train[0][0]])\n",
        "plt.show()\n",
        "#Normalization\n",
        "#(0.4914, 0.4822, 0.4465), (0.247, 0.243, 0.261)\n",
        "x_train, x_test = x_train /255.0, x_test /255.0\n",
        "\n",
        "plt.imshow(x_train[0], cmap=plt.cm.binary)\n",
        "plt.xlabel(categories[y_train[0][0]])\n",
        "plt.show()\n",
        "\n",
        "\n",
        "\n"
      ],
      "execution_count": null,
      "outputs": [
        {
          "output_type": "display_data",
          "data": {
            "image/png": "[encoded data removed]",
            "text/plain": [
              "<Figure size 432x288 with 1 Axes>"
            ]
          },
          "metadata": {
            "tags": [],
            "needs_background": "light"
          }
        },
        {
          "output_type": "display_data",
          "data": {
            "image/png": "[encoded data removed]",
            "text/plain": [
              "<Figure size 432x288 with 1 Axes>"
            ]
          },
          "metadata": {
            "tags": [],
            "needs_background": "light"
          }
        }
      ]
    },
    {
      "cell_type": "markdown",
      "metadata": {
        "id": "zeZ4Fl4WhPBq"
      },
      "source": [
        "## CNN "
      ]
    },
    {
      "cell_type": "code",
      "metadata": {
        "id": "vui28Smuf60s"
      },
      "source": [
        "model = models.Sequential()\n",
        "model.add(layers.Conv2D(128, (3,3),padding='SAME', strides=(1, 1),activation='relu', input_shape=(32, 32, 3)))\n",
        "model.add(layers.MaxPooling2D((2, 2)))\n",
        "model.add(layers.Dropout(.2))\n",
        "model.add(layers.Conv2D(128, (3,3), strides=(1, 1),activation='relu'))\n",
        "model.add(layers.MaxPooling2D((2, 2)))\n",
        "model.add(layers.Dropout(.2))\n",
        "model.add(layers.Conv2D(32, (3, 3),padding='SAME', strides=(1, 1),activation='relu'))\n",
        "model.add(layers.Dropout(.1))\n",
        "model.add(layers.Conv2D(32, (3, 3),padding='VALID', strides=(1, 1),activation='relu'))\n",
        "model.add(layers.Dropout(.1))\n",
        "model.add(layers.Conv2D(32, (2, 2),padding='VALID', strides=(1, 1),activation='relu'))\n",
        "model.add(layers.Dropout(.1))\n",
        "\n"
      ],
      "execution_count": null,
      "outputs": []
    },
    {
      "cell_type": "code",
      "metadata": {
        "id": "1bJi_igzjQpT",
        "colab": {
          "base_uri": "https://localhost:8080/"
        },
        "outputId": "66dd6237-d41f-413d-a042-786b614524ef"
      },
      "source": [
        "model.summary()\n"
      ],
      "execution_count": null,
      "outputs": [
        {
          "output_type": "stream",
          "text": [
            "Model: \"sequential\"\n",
            "_________________________________________________________________\n",
            "Layer (type)                 Output Shape              Param #   \n",
            "=================================================================\n",
            "conv2d (Conv2D)              (None, 32, 32, 128)       3584      \n",
            "_________________________________________________________________\n",
            "max_pooling2d (MaxPooling2D) (None, 16, 16, 128)       0         \n",
            "_________________________________________________________________\n",
            "dropout (Dropout)            (None, 16, 16, 128)       0         \n",
            "_________________________________________________________________\n",
            "conv2d_1 (Conv2D)            (None, 14, 14, 128)       147584    \n",
            "_________________________________________________________________\n",
            "max_pooling2d_1 (MaxPooling2 (None, 7, 7, 128)         0         \n",
            "_________________________________________________________________\n",
            "dropout_1 (Dropout)          (None, 7, 7, 128)         0         \n",
            "_________________________________________________________________\n",
            "conv2d_2 (Conv2D)            (None, 7, 7, 32)          36896     \n",
            "_________________________________________________________________\n",
            "dropout_2 (Dropout)          (None, 7, 7, 32)          0         \n",
            "_________________________________________________________________\n",
            "conv2d_3 (Conv2D)            (None, 5, 5, 32)          9248      \n",
            "_________________________________________________________________\n",
            "dropout_3 (Dropout)          (None, 5, 5, 32)          0         \n",
            "_________________________________________________________________\n",
            "conv2d_4 (Conv2D)            (None, 4, 4, 32)          4128      \n",
            "_________________________________________________________________\n",
            "dropout_4 (Dropout)          (None, 4, 4, 32)          0         \n",
            "=================================================================\n",
            "Total params: 201,440\n",
            "Trainable params: 201,440\n",
            "Non-trainable params: 0\n",
            "_________________________________________________________________\n"
          ],
          "name": "stdout"
        }
      ]
    },
    {
      "cell_type": "code",
      "metadata": {
        "id": "_VFTyRQjjRBb"
      },
      "source": [
        "model.add(layers.Flatten())\n",
        "model.add(layers.Dense(128, activation='relu'))\n",
        "model.add(layers.Dense(10))\n"
      ],
      "execution_count": null,
      "outputs": []
    },
    {
      "cell_type": "code",
      "metadata": {
        "colab": {
          "base_uri": "https://localhost:8080/"
        },
        "id": "qMr-o7OFjdd5",
        "outputId": "44791d3a-e328-416a-a5f2-7c50f9a4bffb"
      },
      "source": [
        "model.summary()\n"
      ],
      "execution_count": null,
      "outputs": [
        {
          "output_type": "stream",
          "text": [
            "Model: \"sequential\"\n",
            "_________________________________________________________________\n",
            "Layer (type)                 Output Shape              Param #   \n",
            "=================================================================\n",
            "conv2d (Conv2D)              (None, 32, 32, 128)       3584      \n",
            "_________________________________________________________________\n",
            "max_pooling2d (MaxPooling2D) (None, 16, 16, 128)       0         \n",
            "_________________________________________________________________\n",
            "dropout (Dropout)            (None, 16, 16, 128)       0         \n",
            "_________________________________________________________________\n",
            "conv2d_1 (Conv2D)            (None, 14, 14, 128)       147584    \n",
            "_________________________________________________________________\n",
            "max_pooling2d_1 (MaxPooling2 (None, 7, 7, 128)         0         \n",
            "_________________________________________________________________\n",
            "dropout_1 (Dropout)          (None, 7, 7, 128)         0         \n",
            "_________________________________________________________________\n",
            "conv2d_2 (Conv2D)            (None, 7, 7, 32)          36896     \n",
            "_________________________________________________________________\n",
            "dropout_2 (Dropout)          (None, 7, 7, 32)          0         \n",
            "_________________________________________________________________\n",
            "conv2d_3 (Conv2D)            (None, 5, 5, 32)          9248      \n",
            "_________________________________________________________________\n",
            "dropout_3 (Dropout)          (None, 5, 5, 32)          0         \n",
            "_________________________________________________________________\n",
            "conv2d_4 (Conv2D)            (None, 4, 4, 32)          4128      \n",
            "_________________________________________________________________\n",
            "dropout_4 (Dropout)          (None, 4, 4, 32)          0         \n",
            "_________________________________________________________________\n",
            "flatten (Flatten)            (None, 512)               0         \n",
            "_________________________________________________________________\n",
            "dense (Dense)                (None, 128)               65664     \n",
            "_________________________________________________________________\n",
            "dense_1 (Dense)              (None, 10)                1290      \n",
            "=================================================================\n",
            "Total params: 268,394\n",
            "Trainable params: 268,394\n",
            "Non-trainable params: 0\n",
            "_________________________________________________________________\n"
          ],
          "name": "stdout"
        }
      ]
    },
    {
      "cell_type": "code",
      "metadata": {
        "colab": {
          "base_uri": "https://localhost:8080/"
        },
        "id": "RYH3n429zwue",
        "outputId": "d89a0c45-8ff2-44b6-a1cd-4ba4d8409f5c"
      },
      "source": [
        "from keras.optimizers import Adam\n",
        "from keras.optimizers import SGD\n",
        "#opt =SGD(lr=0.01, momentum=0.9)\n",
        "opt =Adam(learning_rate=0.001, beta_1=0.8, beta_2=0.999, epsilon=1e-07)\n",
        "model.compile(optimizer=opt,\n",
        "              steps_per_execution = 128,\n",
        "              loss=tf.keras.losses.SparseCategoricalCrossentropy(from_logits=True),\n",
        "              metrics=['accuracy'])\n",
        "\n",
        "history = model.fit(x_train, y_train, epochs=15, \n",
        "                    validation_data=(x_test, y_test))"
      ],
      "execution_count": null,
      "outputs": [
        {
          "output_type": "stream",
          "text": [
            "Epoch 1/15\n",
            "1563/1563 [==============================] - 14s 9ms/step - loss: 1.8165 - accuracy: 0.3198 - val_loss: 1.2811 - val_accuracy: 0.5393\n",
            "Epoch 2/15\n",
            "1563/1563 [==============================] - 9s 6ms/step - loss: 1.2734 - accuracy: 0.5398 - val_loss: 1.0948 - val_accuracy: 0.6070\n",
            "Epoch 3/15\n",
            "1563/1563 [==============================] - 9s 6ms/step - loss: 1.1184 - accuracy: 0.6013 - val_loss: 1.0622 - val_accuracy: 0.6273\n",
            "Epoch 4/15\n",
            "1563/1563 [==============================] - 9s 6ms/step - loss: 1.0264 - accuracy: 0.6343 - val_loss: 0.9686 - val_accuracy: 0.6595\n",
            "Epoch 5/15\n",
            "1563/1563 [==============================] - 9s 6ms/step - loss: 0.9553 - accuracy: 0.6615 - val_loss: 0.9322 - val_accuracy: 0.6675\n",
            "Epoch 6/15\n",
            "1563/1563 [==============================] - 9s 6ms/step - loss: 0.9034 - accuracy: 0.6777 - val_loss: 0.8599 - val_accuracy: 0.7022\n",
            "Epoch 7/15\n",
            "1563/1563 [==============================] - 9s 6ms/step - loss: 0.8620 - accuracy: 0.6950 - val_loss: 0.8353 - val_accuracy: 0.7072\n",
            "Epoch 8/15\n",
            "1563/1563 [==============================] - 9s 6ms/step - loss: 0.8291 - accuracy: 0.7036 - val_loss: 0.7943 - val_accuracy: 0.7238\n",
            "Epoch 9/15\n",
            "1563/1563 [==============================] - 9s 6ms/step - loss: 0.8048 - accuracy: 0.7152 - val_loss: 0.8056 - val_accuracy: 0.7173\n",
            "Epoch 10/15\n",
            "1563/1563 [==============================] - 9s 6ms/step - loss: 0.7803 - accuracy: 0.7255 - val_loss: 0.7727 - val_accuracy: 0.7347\n",
            "Epoch 11/15\n",
            "1563/1563 [==============================] - 9s 6ms/step - loss: 0.7569 - accuracy: 0.7328 - val_loss: 0.7525 - val_accuracy: 0.7409\n",
            "Epoch 12/15\n",
            "1563/1563 [==============================] - 9s 6ms/step - loss: 0.7353 - accuracy: 0.7413 - val_loss: 0.8078 - val_accuracy: 0.7280\n",
            "Epoch 13/15\n",
            "1563/1563 [==============================] - 9s 6ms/step - loss: 0.7323 - accuracy: 0.7401 - val_loss: 0.7540 - val_accuracy: 0.7368\n",
            "Epoch 14/15\n",
            "1563/1563 [==============================] - 9s 6ms/step - loss: 0.7088 - accuracy: 0.7492 - val_loss: 0.7617 - val_accuracy: 0.7420\n",
            "Epoch 15/15\n",
            "1563/1563 [==============================] - 9s 6ms/step - loss: 0.6932 - accuracy: 0.7549 - val_loss: 0.7509 - val_accuracy: 0.7439\n"
          ],
          "name": "stdout"
        }
      ]
    },
    {
      "cell_type": "code",
      "metadata": {
        "colab": {
          "base_uri": "https://localhost:8080/",
          "height": 300
        },
        "id": "8Wc0lSVo0LMo",
        "outputId": "419863bd-42eb-4f10-fc81-7e9fe7db3605"
      },
      "source": [
        "plt.plot(history.history['accuracy'], label='accuracy')\n",
        "plt.plot(history.history['val_accuracy'], label = 'val_accuracy')\n",
        "plt.xlabel('Epoch')\n",
        "plt.ylabel('Accuracy')\n",
        "plt.ylim([0.5, 1])\n",
        "plt.legend(loc='lower right')\n",
        "\n",
        "test_loss, test_acc = model.evaluate(x_test,  y_test, verbose=2)"
      ],
      "execution_count": null,
      "outputs": [
        {
          "output_type": "stream",
          "text": [
            "313/313 - 1s - loss: 0.7509 - accuracy: 0.7439\n"
          ],
          "name": "stdout"
        },
        {
          "output_type": "display_data",
          "data": {
            "image/png": "[encoded data removed]",
            "text/plain": [
              "<Figure size 432x288 with 1 Axes>"
            ]
          },
          "metadata": {
            "tags": [],
            "needs_background": "light"
          }
        }
      ]
    },
    {
      "cell_type": "code",
      "metadata": {
        "id": "yxZJTwqp5Zy_"
      },
      "source": [
        ""
      ],
      "execution_count": null,
      "outputs": []
    }
  ]
}